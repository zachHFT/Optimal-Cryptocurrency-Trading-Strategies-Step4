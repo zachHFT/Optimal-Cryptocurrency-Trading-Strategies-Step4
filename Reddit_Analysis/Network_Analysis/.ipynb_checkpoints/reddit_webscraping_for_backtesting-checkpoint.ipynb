{
 "cells": [
  {
   "cell_type": "markdown",
   "id": "ff049fab",
   "metadata": {},
   "source": [
    "### Deeper Network Analysis \n",
    "\n",
    "Now let us extract information from the popular cryptocurrency subreddits to find communities of influencial authors. We offer a list of top subreddits in the field, and then build a graph recursively. \n",
    "\n",
    "Code adapted from: https://medium.com/social-media-theories-ethics-and-analytics/network-analysis-from-social-media-data-with-networkx-13605d711590"
   ]
  },
  {
   "cell_type": "code",
   "execution_count": null,
   "id": "f9363202",
   "metadata": {},
   "outputs": [],
   "source": [
    "import praw \n",
    "import prawcore\n",
    "import pandas as pd\n",
    "import datetime as dt\n",
    "import networkx as nx\n",
    "from networkx.algorithms import bipartite\n",
    "import numpy as np\n",
    "import requests\n",
    "import json\n",
    "import sys\n",
    "import traceback\n",
    "import time\n",
    "import matplotlib.pyplot as plt\n",
    "import matplotlib.cm as cm"
   ]
  },
  {
   "cell_type": "code",
   "execution_count": null,
   "id": "966cd847",
   "metadata": {},
   "outputs": [],
   "source": [
    "client_id = \"rax4hz8_P0_ttyt8crPYEg\"\n",
    "client_secret = \"7zKse44yWl7Dge7kYQV6fKs20IzLdw\"\n",
    "user_agent = \"data_analysis_crypto_sentiment v1.0 by /u/K_C_7\"\n",
    "\n",
    "reddit = praw.Reddit(client_id=client_id, client_secret=client_secret, user_agent=user_agent)"
   ]
  },
  {
   "cell_type": "code",
   "execution_count": null,
   "id": "56f16897",
   "metadata": {},
   "outputs": [],
   "source": [
    "popular_crypto_subs = ('bitcoin+'\\\n",
    "                       'btc+'\\\n",
    "                       'CryptoMarkets+'\\\n",
    "                       'bitcoinbeginners+'\\\n",
    "                       'CryptoCurrencies+'\\\n",
    "                       'altcoin+'\\\n",
    "                       'icocrypto+'\\\n",
    "                       'CryptoCurrencyTrading+'\\\n",
    "                       'Crypto_General+'\\\n",
    "                       'ico+'\\\n",
    "                       'blockchain+'\\\n",
    "                       'Best Altcoin Subreddits+'\\\n",
    "                       'ethereum+'\\\n",
    "                       'Ripple+'\\\n",
    "                       'litecoin+'\\\n",
    "                       'Monero+'\\\n",
    "                       'Stellar+'\\\n",
    "                       'binance+'\\\n",
    "                       'CoinBase+'\\\n",
    "                       'ledgerwallet+'\\\n",
    "                       'defi+'\\\n",
    "                       'EthTrader+'\\\n",
    "                       'ethfinance'\\\n",
    "                       'LitecoinTraders')"
   ]
  },
  {
   "cell_type": "markdown",
   "id": "9ac892a0",
   "metadata": {},
   "source": [
    "We now define a recursive function ```recursive_node_adder``` whose inputs are the graph in its current state, a comment and a comment's parent author. The goal is to construct a graph $g$ whose nodes are authors of comments and submissions, and the edges which connect them signify that an author has repsonded to another author's reddit input. In this way, it is sensible to define a <b> directed graph </b>, where now edges have a direction, and if redditor $r$ responds to a comment/submission of redditor $r'$, then $r \\to r'$ is a directed link between $r$ and $r'$."
   ]
  },
  {
   "cell_type": "code",
   "execution_count": null,
   "id": "b727aab0",
   "metadata": {},
   "outputs": [],
   "source": [
    "def recursive_node_adder(g, comment, parent_author):\n",
    "    '''Recursively process comments and add them to the graph g'''    \n",
    "    if not (comment.author is None):\n",
    "        # Check if we have the node already in our graph\n",
    "        if (comment.author not in g.nodes):\n",
    "            g.add_node(comment.author)\n",
    "        # Create an edge between this comment author and the parent author\n",
    "        g.add_edge(comment.author, parent_author)\n",
    "        # Iterate through the comments\n",
    "        for reply in comment.replies.list():\n",
    "            if isinstance(reply, praw.models.MoreComments):\n",
    "                continue\n",
    "            if (comment.author is None) or (parent_author is None):\n",
    "                continue\n",
    "            # Recursively process this reply\n",
    "            recursive_node_adder(g, reply, comment.author)"
   ]
  },
  {
   "cell_type": "markdown",
   "id": "253b92a6",
   "metadata": {},
   "source": [
    "Now we extract the submissions and their metadata from the popular cryptocurrency subreddits over the past month. For the sake of time, we limit the search to the top $n$ submissions where $n$ is given the name ``` limit ``` below. If $n$ is too large during the processing one might interrupt the loop after a large enough number of iterations. "
   ]
  },
  {
   "cell_type": "code",
   "execution_count": null,
   "id": "96b30410",
   "metadata": {},
   "outputs": [],
   "source": [
    "# Create a DIRECTED graph \n",
    "g = nx.DiGraph()\n",
    "subreddit = popular_crypto_subs\n",
    "breadthCommentCount = 10\n",
    "\n",
    "targetSub = reddit.subreddit(subreddit)\n",
    "submissions = targetSub.top(limit=1000, time_filter='month') #may stop after a significant num of its\n",
    "\n",
    "i=0\n",
    "\n",
    "for post in submissions:\n",
    "    if i%50 == 0:\n",
    "        print(i)\n",
    "    #print (post.author, \"-\", post.title)\n",
    "    if not (post.author == None):\n",
    "        # Check if we have the node already in our graph\n",
    "        if (post.author not in g.nodes):\n",
    "            g.add_node(post.author)\n",
    "        post.comment_limit = breadthCommentCount\n",
    "        # Get the top few comments\n",
    "        for comment in post.comments.list():\n",
    "            # Skip MoreComment objects, which don't have authors\n",
    "            if isinstance(comment, praw.models.MoreComments):\n",
    "                continue\n",
    "            # Recursively process this reply\n",
    "            recursive_node_adder(g, comment, post.author)\n",
    "    i+=1"
   ]
  },
  {
   "cell_type": "code",
   "execution_count": null,
   "id": "1b131599",
   "metadata": {},
   "outputs": [],
   "source": [
    "labels = list(g.nodes())\n",
    "#convert Subreddit instances into their display names for convenience\n",
    "nodes_new = list(g.nodes()) #initialise\n",
    "for index, node in enumerate(labels):\n",
    "    if isinstance(node, str) == False:\n",
    "        nodes_new[index] = node.name\n",
    "        \n",
    "mapping = dict(zip(g.nodes(), nodes_new))        \n",
    "g = nx.relabel_nodes(g, mapping)\n",
    "\n",
    "#json storage... could be useful?\n",
    "from networkx.readwrite import json_graph \n",
    "data = json_graph.node_link_data(g)\n",
    "H = json_graph.node_link_graph(data, directed=True)"
   ]
  },
  {
   "cell_type": "code",
   "execution_count": null,
   "id": "d879ac16",
   "metadata": {},
   "outputs": [],
   "source": [
    "#save the graph\n",
    "nx.write_gml(g, \"/Users/kc/Documents/StatCompVis/CryptoProject/Optimal-Cryptocurrency-Trading-Strategies-Step2/Reddit_Analysis/graph_for_backtesting.gml\")"
   ]
  },
  {
   "cell_type": "code",
   "execution_count": null,
   "id": "2f7d6f24",
   "metadata": {},
   "outputs": [],
   "source": [
    "#export node lists\n",
    "nodes_list = list(g.nodes())\n",
    "with open('g_nodes.txt', 'w') as filehandle:\n",
    "    for node in nodes_list:\n",
    "        filehandle.write('%s\\n' % node)"
   ]
  },
  {
   "cell_type": "markdown",
   "id": "a7a3fd6f",
   "metadata": {},
   "source": [
    "Okay, so now we can look at the graph and its properties (might be easier in R for plotting/interactivity etc purposes), see R code for this analysis. "
   ]
  },
  {
   "cell_type": "markdown",
   "id": "cea68b65",
   "metadata": {},
   "source": [
    "Having done that analysis, one finds that the most influential authors are as follows, (given a certain rationale: will update with this rationale later on)."
   ]
  },
  {
   "cell_type": "code",
   "execution_count": 21,
   "id": "5188931c",
   "metadata": {},
   "outputs": [],
   "source": [
    "most_influential_authors = open(\"most_influential_authors\", \"r\").read()\n",
    "most_influential_authors = most_influential_authors.split()"
   ]
  },
  {
   "cell_type": "code",
   "execution_count": 22,
   "id": "65046647",
   "metadata": {},
   "outputs": [
    {
     "data": {
      "text/plain": [
       "['naji102',\n",
       " 'Crypto_Gaming_',\n",
       " 'simplelifestyle',\n",
       " 'adamix244',\n",
       " 'Suthekingg',\n",
       " 'InevitableComplex895',\n",
       " 'roymustang261',\n",
       " 'CoinCorner_Sam',\n",
       " 'AbsolutBadLad',\n",
       " 'Imaginary-Adagio2231']"
      ]
     },
     "execution_count": 22,
     "metadata": {},
     "output_type": "execute_result"
    }
   ],
   "source": [
    "most_influential_authors"
   ]
  },
  {
   "cell_type": "markdown",
   "id": "e864924d",
   "metadata": {},
   "source": [
    "You'll see from the bar charts produced in R and found on the github that many of these names perhaps aren't surprising. However, the order might give you some pause, while not toally shocking. You can see that the detectors of influence contain a wide variety of measures so that one can distinguish these redditors from one another.  "
   ]
  },
  {
   "cell_type": "code",
   "execution_count": 4,
   "id": "1c29f94c",
   "metadata": {},
   "outputs": [],
   "source": [
    "def get_user_posts(user, period, limit):\n",
    "    redditor = reddit.redditor(user)\n",
    "    redditor_subs = redditor.submissions.top(period, limit=limit) #get top (limit) submissions from user over the last period \n",
    "    posts_info = []\n",
    "    \n",
    "    for subm in redditor_subs:\n",
    "        \n",
    "        #extract submission information from user\n",
    "        subred_info = []\n",
    "        subred_info.append(subm.id)  \n",
    "        subred_info.append(str(subm.author)) \n",
    "        subred_info.append(subm.score)  \n",
    "        subred_info.append(subm.upvote_ratio)\n",
    "        subred_info.append(subm.num_comments)\n",
    "        subred_info.append(subm.subreddit)\n",
    "        subred_info.append(subm.created_utc)\n",
    "        posts_info.append(subred_info)\n",
    "        \n",
    "    \n",
    "    sorted_info = sorted(posts_info, key=lambda x: x[1], reverse = True)\n",
    "    posts_df = pd.DataFrame(sorted_info, columns = ['id','author', 'score','upvote_ratio',\\\n",
    "                                                    'num_comments', 'subreddit', \"created\"])\n",
    "    return posts_df   \n"
   ]
  },
  {
   "cell_type": "markdown",
   "id": "6cbb7285",
   "metadata": {},
   "source": [
    "Look superficially at the posts of naji102, the most influential person found by our method."
   ]
  },
  {
   "cell_type": "code",
   "execution_count": 18,
   "id": "2b91f8d5",
   "metadata": {},
   "outputs": [],
   "source": [
    "df_naji102 = get_user_posts('naji102', 'year', 250)"
   ]
  },
  {
   "cell_type": "code",
   "execution_count": 19,
   "id": "9403b832",
   "metadata": {},
   "outputs": [],
   "source": [
    "def most_freq_subs_plot(user_posts_df):\n",
    "    plt.figure(figsize=(10, 5))\n",
    "    ax = user_posts_df['subreddit'].value_counts().plot(kind='bar',\\\n",
    "                                                title='Number of posts {} makes in various subreddits'.format(user_posts_df['author'][0]))\n",
    "    ax.set_xlabel(\"Subreddit\")\n",
    "    ax.set_ylabel(\"Number of posts\")  "
   ]
  },
  {
   "cell_type": "code",
   "execution_count": 20,
   "id": "45391ecb",
   "metadata": {},
   "outputs": [
    {
     "data": {
      "image/png": "[encoded data removed]",
      "text/plain": [
       "<Figure size 720x360 with 1 Axes>"
      ]
     },
     "metadata": {
      "needs_background": "light"
     },
     "output_type": "display_data"
    }
   ],
   "source": [
    "most_freq_subs_plot(df_naji102)"
   ]
  },
  {
   "cell_type": "markdown",
   "id": "36b923b3",
   "metadata": {},
   "source": [
    "So for this guy, it perhaps makes sense to focus on ethereum prices over the past year in analysing the effect of their contributions. "
   ]
  },
  {
   "cell_type": "code",
   "execution_count": 9,
   "id": "713a505d",
   "metadata": {},
   "outputs": [],
   "source": [
    "from datar.all import f, mutate, tibble, head, tail, arrange"
   ]
  },
  {
   "cell_type": "code",
   "execution_count": 10,
   "id": "f0791670",
   "metadata": {},
   "outputs": [],
   "source": [
    "df_naji102 = tibble(df_naji102)\n",
    "df_naji102_crypto = df_naji102[(df_naji102['subreddit']==\"CryptoCurrency\") |\\\n",
    "                               (df_naji102['subreddit']==\"ethtrader\")]"
   ]
  },
  {
   "cell_type": "code",
   "execution_count": 11,
   "id": "43184224",
   "metadata": {},
   "outputs": [
    {
     "data": {
      "text/html": [
       "<table border=\"1\" class=\"dataframe\">\n",
       "  <thead>\n",
       "    <tr style=\"text-align: right;\">\n",
       "      <th></th>\n",
       "      <th>id</th>\n",
       "      <th>author</th>\n",
       "      <th>score</th>\n",
       "      <th>upvote_ratio</th>\n",
       "      <th>num_comments</th>\n",
       "      <th>subreddit</th>\n",
       "      <th>created</th>\n",
       "    </tr>\n",
       "  </thead>\n",
       "  <tbody>\n",
       "    <tr>\n",
       "      <th style=\"font-style: italic;\" ></th>\n",
       "      <td style=\"font-style: italic;\" >&lt;object&gt;</td>\n",
       "      <td style=\"font-style: italic;\" >&lt;object&gt;</td>\n",
       "      <td style=\"font-style: italic;\" >&lt;int64&gt;</td>\n",
       "      <td style=\"font-style: italic;\" >&lt;float64&gt;</td>\n",
       "      <td style=\"font-style: italic;\" >&lt;int64&gt;</td>\n",
       "      <td style=\"font-style: italic;\" >&lt;object&gt;</td>\n",
       "      <td style=\"font-style: italic;\" >&lt;float64&gt;</td>\n",
       "    </tr>\n",
       "    <tr>\n",
       "      <th>0</th>\n",
       "      <td>qqvj8z</td>\n",
       "      <td>naji102</td>\n",
       "      <td>5042</td>\n",
       "      <td>0.92</td>\n",
       "      <td>1038</td>\n",
       "      <td>CryptoCurrency</td>\n",
       "      <td>1.636554e+09</td>\n",
       "    </tr>\n",
       "    <tr>\n",
       "      <th>1</th>\n",
       "      <td>r52isc</td>\n",
       "      <td>naji102</td>\n",
       "      <td>3904</td>\n",
       "      <td>0.83</td>\n",
       "      <td>1190</td>\n",
       "      <td>CryptoCurrency</td>\n",
       "      <td>1.638211e+09</td>\n",
       "    </tr>\n",
       "    <tr>\n",
       "      <th>3</th>\n",
       "      <td>qv4pvx</td>\n",
       "      <td>naji102</td>\n",
       "      <td>1761</td>\n",
       "      <td>0.98</td>\n",
       "      <td>363</td>\n",
       "      <td>CryptoCurrency</td>\n",
       "      <td>1.637058e+09</td>\n",
       "    </tr>\n",
       "    <tr>\n",
       "      <th>4</th>\n",
       "      <td>qh8zea</td>\n",
       "      <td>naji102</td>\n",
       "      <td>1583</td>\n",
       "      <td>0.97</td>\n",
       "      <td>415</td>\n",
       "      <td>ethtrader</td>\n",
       "      <td>1.635376e+09</td>\n",
       "    </tr>\n",
       "    <tr>\n",
       "      <th>5</th>\n",
       "      <td>q6zqpf</td>\n",
       "      <td>naji102</td>\n",
       "      <td>1403</td>\n",
       "      <td>0.98</td>\n",
       "      <td>224</td>\n",
       "      <td>ethtrader</td>\n",
       "      <td>1.634086e+09</td>\n",
       "    </tr>\n",
       "    <tr>\n",
       "      <th>6</th>\n",
       "      <td>qvamsu</td>\n",
       "      <td>naji102</td>\n",
       "      <td>1290</td>\n",
       "      <td>0.96</td>\n",
       "      <td>437</td>\n",
       "      <td>ethtrader</td>\n",
       "      <td>1.637077e+09</td>\n",
       "    </tr>\n",
       "  </tbody>\n",
       "</table>"
      ],
      "text/plain": [
       "        id   author   score  upvote_ratio  num_comments       subreddit  \\\n",
       "  <object> <object> <int64>     <float64>       <int64>        <object>   \n",
       "0   qqvj8z  naji102    5042          0.92          1038  CryptoCurrency   \n",
       "1   r52isc  naji102    3904          0.83          1190  CryptoCurrency   \n",
       "3   qv4pvx  naji102    1761          0.98           363  CryptoCurrency   \n",
       "4   qh8zea  naji102    1583          0.97           415       ethtrader   \n",
       "5   q6zqpf  naji102    1403          0.98           224       ethtrader   \n",
       "6   qvamsu  naji102    1290          0.96           437       ethtrader   \n",
       "\n",
       "        created  \n",
       "      <float64>  \n",
       "0  1.636554e+09  \n",
       "1  1.638211e+09  \n",
       "3  1.637058e+09  \n",
       "4  1.635376e+09  \n",
       "5  1.634086e+09  \n",
       "6  1.637077e+09  "
      ]
     },
     "execution_count": 11,
     "metadata": {},
     "output_type": "execute_result"
    }
   ],
   "source": [
    "df_naji102_crypto = tibble(df_naji102_crypto)\n",
    "head(df_naji102_crypto)"
   ]
  },
  {
   "cell_type": "code",
   "execution_count": 12,
   "id": "904e2cc8",
   "metadata": {},
   "outputs": [],
   "source": [
    "df_naji102_crypto = (df_naji102_crypto >> \n",
    "                     mutate(created = f.created.astype(int)) >>\n",
    "                     mutate(created_dt = df_naji102_crypto['created'].apply(lambda time:\\\n",
    "                                                                     dt.datetime.fromtimestamp(time).strftime('%Y-%m-%d %H:%M:%S'))) >>\n",
    "                     arrange(f.created_dt) #organise data in chronological order\n",
    "                    )\n"
   ]
  },
  {
   "cell_type": "code",
   "execution_count": 13,
   "id": "3d41da80",
   "metadata": {},
   "outputs": [
    {
     "data": {
      "text/html": [
       "<table border=\"1\" class=\"dataframe\">\n",
       "  <thead>\n",
       "    <tr style=\"text-align: right;\">\n",
       "      <th></th>\n",
       "      <th>id</th>\n",
       "      <th>author</th>\n",
       "      <th>score</th>\n",
       "      <th>upvote_ratio</th>\n",
       "      <th>num_comments</th>\n",
       "      <th>subreddit</th>\n",
       "      <th>created</th>\n",
       "      <th>created_dt</th>\n",
       "    </tr>\n",
       "  </thead>\n",
       "  <tbody>\n",
       "    <tr>\n",
       "      <th style=\"font-style: italic;\" ></th>\n",
       "      <td style=\"font-style: italic;\" >&lt;object&gt;</td>\n",
       "      <td style=\"font-style: italic;\" >&lt;object&gt;</td>\n",
       "      <td style=\"font-style: italic;\" >&lt;int64&gt;</td>\n",
       "      <td style=\"font-style: italic;\" >&lt;float64&gt;</td>\n",
       "      <td style=\"font-style: italic;\" >&lt;int64&gt;</td>\n",
       "      <td style=\"font-style: italic;\" >&lt;object&gt;</td>\n",
       "      <td style=\"font-style: italic;\" >&lt;int64&gt;</td>\n",
       "      <td style=\"font-style: italic;\" >&lt;object&gt;</td>\n",
       "    </tr>\n",
       "    <tr>\n",
       "      <th>0</th>\n",
       "      <td>p0cj16</td>\n",
       "      <td>naji102</td>\n",
       "      <td>19</td>\n",
       "      <td>0.85</td>\n",
       "      <td>23</td>\n",
       "      <td>ethtrader</td>\n",
       "      <td>1628419659</td>\n",
       "      <td>2021-08-08 12:47:39</td>\n",
       "    </tr>\n",
       "    <tr>\n",
       "      <th>1</th>\n",
       "      <td>p0u3mz</td>\n",
       "      <td>naji102</td>\n",
       "      <td>13</td>\n",
       "      <td>0.79</td>\n",
       "      <td>30</td>\n",
       "      <td>CryptoCurrency</td>\n",
       "      <td>1628482641</td>\n",
       "      <td>2021-08-09 06:17:21</td>\n",
       "    </tr>\n",
       "    <tr>\n",
       "      <th>2</th>\n",
       "      <td>p0xr63</td>\n",
       "      <td>naji102</td>\n",
       "      <td>6</td>\n",
       "      <td>0.81</td>\n",
       "      <td>7</td>\n",
       "      <td>ethtrader</td>\n",
       "      <td>1628499854</td>\n",
       "      <td>2021-08-09 11:04:14</td>\n",
       "    </tr>\n",
       "    <tr>\n",
       "      <th>3</th>\n",
       "      <td>p1sebl</td>\n",
       "      <td>naji102</td>\n",
       "      <td>6</td>\n",
       "      <td>0.88</td>\n",
       "      <td>10</td>\n",
       "      <td>ethtrader</td>\n",
       "      <td>1628611936</td>\n",
       "      <td>2021-08-10 18:12:16</td>\n",
       "    </tr>\n",
       "    <tr>\n",
       "      <th>4</th>\n",
       "      <td>p25p4y</td>\n",
       "      <td>naji102</td>\n",
       "      <td>21</td>\n",
       "      <td>0.96</td>\n",
       "      <td>9</td>\n",
       "      <td>ethtrader</td>\n",
       "      <td>1628655425</td>\n",
       "      <td>2021-08-11 06:17:05</td>\n",
       "    </tr>\n",
       "    <tr>\n",
       "      <th>5</th>\n",
       "      <td>p2u8nt</td>\n",
       "      <td>naji102</td>\n",
       "      <td>50</td>\n",
       "      <td>0.94</td>\n",
       "      <td>15</td>\n",
       "      <td>ethtrader</td>\n",
       "      <td>1628749699</td>\n",
       "      <td>2021-08-12 08:28:19</td>\n",
       "    </tr>\n",
       "  </tbody>\n",
       "</table>"
      ],
      "text/plain": [
       "        id   author   score  upvote_ratio  num_comments       subreddit  \\\n",
       "  <object> <object> <int64>     <float64>       <int64>        <object>   \n",
       "0   p0cj16  naji102      19          0.85            23       ethtrader   \n",
       "1   p0u3mz  naji102      13          0.79            30  CryptoCurrency   \n",
       "2   p0xr63  naji102       6          0.81             7       ethtrader   \n",
       "3   p1sebl  naji102       6          0.88            10       ethtrader   \n",
       "4   p25p4y  naji102      21          0.96             9       ethtrader   \n",
       "5   p2u8nt  naji102      50          0.94            15       ethtrader   \n",
       "\n",
       "      created           created_dt  \n",
       "      <int64>             <object>  \n",
       "0  1628419659  2021-08-08 12:47:39  \n",
       "1  1628482641  2021-08-09 06:17:21  \n",
       "2  1628499854  2021-08-09 11:04:14  \n",
       "3  1628611936  2021-08-10 18:12:16  \n",
       "4  1628655425  2021-08-11 06:17:05  \n",
       "5  1628749699  2021-08-12 08:28:19  "
      ]
     },
     "execution_count": 13,
     "metadata": {},
     "output_type": "execute_result"
    }
   ],
   "source": [
    "head(df_naji102_crypto)"
   ]
  },
  {
   "cell_type": "code",
   "execution_count": 17,
   "id": "3de89623",
   "metadata": {},
   "outputs": [
    {
     "name": "stdout",
     "output_type": "stream",
     "text": [
      "2021-12-01 20:49:46\n"
     ]
    }
   ],
   "source": [
    "latest_post = list(df_naji102_crypto['created_dt'])[-1]\n",
    "print(latest_post)"
   ]
  },
  {
   "cell_type": "markdown",
   "id": "5b3dfba3",
   "metadata": {},
   "source": [
    "For the purpose of testing the algorithm, we round the times that the author posts so as to correspond the data with what is released to us from Binance (they only give 'whole number' times in a sense, every minute, five minutes, hour etc)."
   ]
  },
  {
   "cell_type": "code",
   "execution_count": null,
   "id": "18aac375",
   "metadata": {},
   "outputs": [],
   "source": [
    "from datetime import datetime, timedelta\n",
    "\n",
    "\n",
    "def round_minutes(time, direction, resolution):\n",
    "    new_minute = (time.minute // resolution + (1 if direction == 'up' else 0)) * resolution\n",
    "    return time + timedelta(minutes=new_minute - time.minute)"
   ]
  },
  {
   "cell_type": "code",
   "execution_count": null,
   "id": "cbba1413",
   "metadata": {},
   "outputs": [],
   "source": [
    "naji102_posts_nxthr = [round_minutes(time,'up',60).replace(second=0) for time in pd.to_datetime(df_naji102_crypto['created_dt'])]"
   ]
  },
  {
   "cell_type": "code",
   "execution_count": null,
   "id": "fd20b5e5",
   "metadata": {},
   "outputs": [],
   "source": [
    "naji102_posts_nxthr = pd.to_datetime(naji102_posts_nxthr)"
   ]
  },
  {
   "cell_type": "code",
   "execution_count": null,
   "id": "e6e4f1b0",
   "metadata": {},
   "outputs": [],
   "source": [
    "naji102_posts_nxthr = pd.DataFrame(naji102_posts_nxthr)\n",
    "naji102_posts_nxthr"
   ]
  },
  {
   "cell_type": "code",
   "execution_count": null,
   "id": "7165b4dc",
   "metadata": {},
   "outputs": [],
   "source": [
    "naji102_posts_nxthr.to_csv(\"naji102_posts_nxthr.csv\")"
   ]
  },
  {
   "cell_type": "code",
   "execution_count": null,
   "id": "db15bdd8",
   "metadata": {},
   "outputs": [],
   "source": [
    "import csv"
   ]
  },
  {
   "cell_type": "code",
   "execution_count": null,
   "id": "c474dad3",
   "metadata": {},
   "outputs": [],
   "source": [
    "eth_hr_imp_w_signal = open(\"/Users/kc/Documents/StatCompVis/CryptoProject/Optimal-Cryptocurrency-Trading-Strategies-Step2/Reddit_Analysis/Price_Data_Extraction/Data/Binance_OHLC/ETHUSDT-1h-binance-imputed.csv\", \"r\")\n",
    "eth_hr_imp_w_signal = pd.read_csv(eth_hr_imp_w_signal)"
   ]
  },
  {
   "cell_type": "markdown",
   "id": "f502a48e",
   "metadata": {},
   "source": [
    "Backtesting via PnL"
   ]
  },
  {
   "cell_type": "code",
   "execution_count": null,
   "id": "94338c29",
   "metadata": {},
   "outputs": [],
   "source": [
    "def get_pnl(prices_data_with_signal, start=1000):    \n",
    "    #extract closing prices and signal\n",
    "    signal = prices_data_with_signal['signal']\n",
    "    close = prices_data_with_signal['close']\n",
    "    \n",
    "    start = start\n",
    "    pnl = [start]\n",
    "    i = 0\n",
    "    for index in range(i + 1, len(close)):\n",
    "        if signal[i] == 1:\n",
    "            pnl.append(pnl[-1]*close[i+1]/close[i])\n",
    "        else:\n",
    "            pnl.append(pnl[-1])\n",
    "        i += 1\n",
    "    return pnl"
   ]
  },
  {
   "cell_type": "code",
   "execution_count": null,
   "id": "4efe8203",
   "metadata": {},
   "outputs": [],
   "source": [
    "pnl = get_pnl(eth_hr_imp_w_signal)"
   ]
  },
  {
   "cell_type": "code",
   "execution_count": null,
   "id": "74d4d1d7",
   "metadata": {},
   "outputs": [],
   "source": [
    "plt.plot(pnl)\n",
    "plt.xlabel('Time index')\n",
    "plt.ylabel('PnL')\n",
    "plt.title('PnL evolution through time')\n",
    "plt.savefig(\"pnl_hr_naji102.png\")\n",
    "plt.show()\n"
   ]
  },
  {
   "cell_type": "code",
   "execution_count": null,
   "id": "f2862329",
   "metadata": {},
   "outputs": [],
   "source": [
    "plt.plot(eth_hr_imp_w_signal['close']) \n",
    "plt.xlabel('Time index')\n",
    "plt.ylabel('Close Price')\n",
    "plt.title('Close price through time')\n",
    "plt.savefig('close_price_through_time_hr.png')\n",
    "plt.show() \n"
   ]
  },
  {
   "cell_type": "markdown",
   "id": "bd2366d7",
   "metadata": {},
   "source": [
    "#### Minute data "
   ]
  },
  {
   "cell_type": "code",
   "execution_count": null,
   "id": "a2bf3f0a",
   "metadata": {},
   "outputs": [],
   "source": [
    "naji102_posts_nxtmin = [round_minutes(time,'up',1).replace(second=0) for time in pd.to_datetime(df_naji102_crypto['created_dt'])]"
   ]
  },
  {
   "cell_type": "code",
   "execution_count": null,
   "id": "da3518d5",
   "metadata": {},
   "outputs": [],
   "source": [
    "pd.DataFrame(naji102_posts_nxthr).to_csv(\"naji102_posts_nxtmin.csv\")"
   ]
  },
  {
   "cell_type": "code",
   "execution_count": null,
   "id": "9dfdb2eb",
   "metadata": {},
   "outputs": [],
   "source": [
    "eth_naji102_m = open(\"/Users/kc/Documents/StatCompVis/CryptoProject/Optimal-Cryptocurrency-Trading-Strategies-Step2/Reddit_Analysis/Price_Data_Extraction/Data/Binance_OHLC/ETHUSDT-1m-binance-imputed.csv\", \"r\")\n",
    "eth_naji102_m = pd.read_csv(eth_naji102_m)\n",
    "head(eth_naji102_m)"
   ]
  },
  {
   "cell_type": "code",
   "execution_count": null,
   "id": "2127d643",
   "metadata": {},
   "outputs": [],
   "source": [
    "pnl_minute = get_pnl(eth_naji102_m)"
   ]
  },
  {
   "cell_type": "code",
   "execution_count": null,
   "id": "6122a70f",
   "metadata": {},
   "outputs": [],
   "source": [
    "plt.plot(pnl_minute)\n",
    "plt.xlabel('Time index')\n",
    "plt.ylabel('PnL')\n",
    "plt.title('PnL evolution through time')\n",
    "plt.savefig(\"pnl_m_naji102.png\")\n",
    "plt.show()\n"
   ]
  },
  {
   "cell_type": "code",
   "execution_count": null,
   "id": "c69db191",
   "metadata": {},
   "outputs": [],
   "source": [
    "plt.plot(eth_naji102_m['close'])            \n",
    "plt.xlabel('Time index')\n",
    "plt.ylabel('Close Price')\n",
    "plt.title('Close price through time')\n",
    "plt.show() "
   ]
  },
  {
   "cell_type": "code",
   "execution_count": null,
   "id": "53d71ed6",
   "metadata": {},
   "outputs": [],
   "source": [
    "pd.DataFrame(pnl_minute).to_csv('pnl_naji102_min.csv')\n",
    "pd.DataFrame(pnl).to_csv('pnl_naji102_hr.csv')\n"
   ]
  },
  {
   "cell_type": "code",
   "execution_count": null,
   "id": "0b609e1c",
   "metadata": {},
   "outputs": [],
   "source": []
  }
 ],
 "metadata": {
  "kernelspec": {
   "display_name": "Python 3 (ipykernel)",
   "language": "python",
   "name": "python3"
  },
  "language_info": {
   "codemirror_mode": {
    "name": "ipython",
    "version": 3
   },
   "file_extension": ".py",
   "mimetype": "text/x-python",
   "name": "python",
   "nbconvert_exporter": "python",
   "pygments_lexer": "ipython3",
   "version": "3.7.11"
  }
 },
 "nbformat": 4,
 "nbformat_minor": 5
}
